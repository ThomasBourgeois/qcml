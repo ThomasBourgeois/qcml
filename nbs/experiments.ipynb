{
 "cells": [
  {
   "cell_type": "markdown",
   "id": "2d257c61",
   "metadata": {},
   "source": [
    "## Experiments tested :\n",
    "\n",
    "[1] Fuzzy sphere\n",
    "\n",
    "[2] Higher dimensional synthetic manifolds\n",
    "- M10b\n",
    "- MBeta\n",
    "- MN1"
   ]
  },
  {
   "cell_type": "code",
   "execution_count": 1,
   "id": "ebe64cf6",
   "metadata": {},
   "outputs": [],
   "source": [
    "import skdim\n",
    "import plotly.express as px\n",
    "import torch\n",
    "from torch.utils.data import DataLoader\n",
    "from qcml.model import QuantumCognitionModel, train\n",
    "from qcml.intrinsic_dimension import intrinsic_dimension\n",
    "from qcml.utils import plot_sphere\n",
    "seed = 42\n",
    "device = torch.device(\"cuda\") if torch.cuda.is_available() else torch.device(\"cpu\")\n",
    "bm = skdim.datasets.BenchmarkManifolds(random_state=seed)"
   ]
  },
  {
   "cell_type": "markdown",
   "id": "5bcd1076",
   "metadata": {},
   "source": [
    "## 1. Fuzzy sphere"
   ]
  },
  {
   "cell_type": "markdown",
   "id": "1ac04f03",
   "metadata": {},
   "source": [
    "Collecting data and training QCML model"
   ]
  },
  {
   "cell_type": "code",
   "execution_count": null,
   "id": "d5ad97f3",
   "metadata": {},
   "outputs": [],
   "source": [
    "D = 3\n",
    "d = 2\n",
    "N = 3\n",
    "n = 2500\n",
    "X = bm.generate(name='M1_Sphere', dim=D, d=d, noise=0.1, n=n)\n",
    "model = QuantumCognitionModel(N, N, 0.).to(device)\n",
    "model = train(model, X, {\"lr\": 1e-3, \"n_epochs\": 50})\n",
    "X_A = model(torch.tensor(X).to(device))[0].real"
   ]
  },
  {
   "cell_type": "markdown",
   "id": "3406a735",
   "metadata": {},
   "source": [
    "Plot of raw noisy data and manifold found."
   ]
  },
  {
   "cell_type": "code",
   "execution_count": null,
   "id": "236d5f0d",
   "metadata": {
    "scrolled": false
   },
   "outputs": [],
   "source": [
    "plot_sphere(X, X_A.cpu().detach().numpy())"
   ]
  },
  {
   "cell_type": "markdown",
   "id": "ba676354",
   "metadata": {},
   "source": [
    "Below a screenshot of the fitting observed."
   ]
  },
  {
   "cell_type": "markdown",
   "id": "0779ce61",
   "metadata": {},
   "source": [
    "![alt text](img/hypersphere.png \"Title\")"
   ]
  },
  {
   "cell_type": "markdown",
   "id": "ad098fb2",
   "metadata": {},
   "source": [
    "We conclude by calculating the intrinsic dimension found for the manifold through searching for biggest gaps in the eigenvalues of the quantum metric."
   ]
  },
  {
   "cell_type": "code",
   "execution_count": 4,
   "id": "afdeb083",
   "metadata": {},
   "outputs": [
    {
     "name": "stdout",
     "output_type": "stream",
     "text": [
      "Average dimension found over dataset : 2.0 (True: 2)\n"
     ]
    }
   ],
   "source": [
    "dlist = intrinsic_dimension(model, X_A)\n",
    "print(f\"Average dimension found over dataset : {torch.mean(dlist, dtype=float).item()} (True: {d})\")"
   ]
  },
  {
   "cell_type": "markdown",
   "id": "e9572c6e",
   "metadata": {},
   "source": [
    "## 2. Higher dimensional synthetic manifolds"
   ]
  },
  {
   "cell_type": "markdown",
   "id": "7f6fefc6",
   "metadata": {},
   "source": [
    "For each of the samples below we perform the same steps as above : \n",
    "- collecting data\n",
    "- training QCML model\n",
    "- calculating intrinsic dimension of manifold found"
   ]
  },
  {
   "cell_type": "markdown",
   "id": "321ec1ba",
   "metadata": {},
   "source": [
    "### M10b"
   ]
  },
  {
   "cell_type": "markdown",
   "id": "2fac9df1",
   "metadata": {},
   "source": [
    "17 dimensions linear manifold inside space of dimension 18."
   ]
  },
  {
   "cell_type": "code",
   "execution_count": null,
   "id": "04b0a946",
   "metadata": {
    "scrolled": true
   },
   "outputs": [],
   "source": [
    "D = 18\n",
    "d = 17\n",
    "N = 16\n",
    "n = 2500\n",
    "X = bm.generate(name='M10b_Cubic', dim=D, d=d, noise=0.1, n=n)\n",
    "model = QuantumCognitionModel(D, N, 0.).to(device)\n",
    "model = train(model, X, {\"lr\": 1e-3, \"n_epochs\": 50})\n",
    "X_A = model(torch.tensor(X).to(device))[0].real"
   ]
  },
  {
   "cell_type": "code",
   "execution_count": 6,
   "id": "c40797f6",
   "metadata": {},
   "outputs": [
    {
     "name": "stdout",
     "output_type": "stream",
     "text": [
      "Average dimension found over dataset : 16.9428 (True: 17)\n"
     ]
    }
   ],
   "source": [
    "dlist = torch.cat([intrinsic_dimension(model, x) for x in DataLoader(X_A, batch_size=256)])\n",
    "print(f\"Average dimension found over dataset : {torch.mean(dlist, dtype=float).item()} (True: {d})\")"
   ]
  },
  {
   "cell_type": "markdown",
   "id": "08f996c3",
   "metadata": {},
   "source": [
    "### Mbeta"
   ]
  },
  {
   "cell_type": "markdown",
   "id": "37f81295",
   "metadata": {},
   "source": [
    "10 dimensions non-linear manifold inside space of dimension 40."
   ]
  },
  {
   "cell_type": "code",
   "execution_count": null,
   "id": "9516c9f2",
   "metadata": {
    "scrolled": true
   },
   "outputs": [],
   "source": [
    "D = 40\n",
    "d = 10\n",
    "N = 16\n",
    "n = 250\n",
    "X = bm.generate(name='Mbeta', dim=D, d=d, noise=0.1, n=n)\n",
    "model = QuantumCognitionModel(D, N, 0.).to(device)\n",
    "model = train(model, X, {\"lr\": 1e-3, \"n_epochs\": 500})\n",
    "X_A = model(torch.tensor(X).to(device))[0].real"
   ]
  },
  {
   "cell_type": "code",
   "execution_count": 8,
   "id": "ec746cb9",
   "metadata": {},
   "outputs": [
    {
     "name": "stdout",
     "output_type": "stream",
     "text": [
      "Average dimension found over dataset : 30.0 (True: 10)\n"
     ]
    }
   ],
   "source": [
    "dlist = torch.cat([intrinsic_dimension(model, x) for x in DataLoader(X_A, batch_size=256)])\n",
    "print(f\"Average dimension found over dataset : {torch.mean(dlist, dtype=float).item()} (True: {d})\")"
   ]
  },
  {
   "cell_type": "code",
   "execution_count": 9,
   "id": "7bdc89ee",
   "metadata": {},
   "outputs": [
    {
     "name": "stdout",
     "output_type": "stream",
     "text": [
      "Top-1 dimension found over dataset (with eigen gaps as differences): 9 (True: 10)\n"
     ]
    }
   ],
   "source": [
    "dlist = torch.cat([intrinsic_dimension(model, x, {\"biggest_gap_diff\": True}) for x in DataLoader(X_A, batch_size=256)])\n",
    "print(f\"Top-1 dimension found over dataset (with spectral gaps as differences): {torch.argmax(torch.bincount(dlist)).item()} (True: {d})\")"
   ]
  },
  {
   "cell_type": "markdown",
   "id": "e5c25ae3",
   "metadata": {},
   "source": [
    "### MN1"
   ]
  },
  {
   "cell_type": "markdown",
   "id": "d694149b",
   "metadata": {},
   "source": [
    "18 dimensions non-linear manifold inside space of dimension 72."
   ]
  },
  {
   "cell_type": "code",
   "execution_count": null,
   "id": "af0b3ea4",
   "metadata": {
    "scrolled": true
   },
   "outputs": [],
   "source": [
    "D = 72\n",
    "d = 18\n",
    "N = 16\n",
    "n = 250\n",
    "X = bm.generate(name='Mn1_Nonlinear', dim=D, d=d, noise=0.1, n=n)\n",
    "model = QuantumCognitionModel(D, N, 0.).to(device)\n",
    "model = train(model, X, {\"lr\": 1e-3, \"n_epochs\": 500})\n",
    "X_A = model(torch.tensor(X).to(device))[0].real"
   ]
  },
  {
   "cell_type": "code",
   "execution_count": 13,
   "id": "fb8e78aa",
   "metadata": {},
   "outputs": [
    {
     "name": "stdout",
     "output_type": "stream",
     "text": [
      "Average dimension found over dataset : 30.0 (True: 18)\n"
     ]
    }
   ],
   "source": [
    "dlist = torch.cat([intrinsic_dimension(model, x) for x in DataLoader(X_A, batch_size=256)])\n",
    "print(f\"Average dimension found over dataset : {torch.mean(dlist, dtype=float).item()} (True: {d})\")"
   ]
  },
  {
   "cell_type": "code",
   "execution_count": 14,
   "id": "e1edbd96",
   "metadata": {},
   "outputs": [
    {
     "name": "stdout",
     "output_type": "stream",
     "text": [
      "Top-2 dimension found over dataset (with spectral gaps as differences): 17 (True: 18)\n"
     ]
    }
   ],
   "source": [
    "dlist = torch.cat([intrinsic_dimension(model, x, {\"biggest_gap_diff\": True}) for x in DataLoader(X_A, batch_size=256)])\n",
    "b = torch.bincount(dlist)\n",
    "dim_top_1 = torch.argmax(b).item()\n",
    "b[dim_top_1] = -1\n",
    "dim_top_2 = torch.argmax(b).item()\n",
    "print(f\"Top-2 dimension found over dataset (with spectral gaps as differences): {dim_top_2} (True: {d})\")"
   ]
  },
  {
   "cell_type": "markdown",
   "id": "6533f00f",
   "metadata": {},
   "source": [
    "## Observations :\n",
    "\n",
    "- On the two first experiments the agreement between the dimension found and expected is good (1.9x for 2; 16.9x for 17).\n",
    "\n",
    "- On the last two experiments, if we take stricly the method of the paper, we don't find their results. However, when tweaking slightly the method we find dimensions very close to what was expected (9 -> 10; and 17 -> 18). This is very promising.\n",
    "\n",
    "Overall promising results. Potential next steps on our side to bridge the gap could be to robustify the training of the QCML model, probably with earlystopping on a validation set, and searching for the best learning rate."
   ]
  }
 ],
 "metadata": {
  "kernelspec": {
   "display_name": "Python 3 (ipykernel)",
   "language": "python",
   "name": "python3"
  },
  "language_info": {
   "codemirror_mode": {
    "name": "ipython",
    "version": 3
   },
   "file_extension": ".py",
   "mimetype": "text/x-python",
   "name": "python",
   "nbconvert_exporter": "python",
   "pygments_lexer": "ipython3",
   "version": "3.11.11"
  }
 },
 "nbformat": 4,
 "nbformat_minor": 5
}
